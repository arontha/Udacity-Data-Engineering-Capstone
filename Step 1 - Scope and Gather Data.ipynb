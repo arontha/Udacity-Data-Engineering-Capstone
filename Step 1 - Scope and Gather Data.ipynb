{
 "cells": [
  {
   "cell_type": "code",
   "execution_count": 1,
   "metadata": {
    "editable": true
   },
   "outputs": [],
   "source": [
    "import pandas as pd\n",
    "import numpy as np"
   ]
  },
  {
   "cell_type": "markdown",
   "metadata": {
    "editable": true
   },
   "source": [
    "### Step 1: Scope the Project and Gather Data\n",
    "\n",
    "#### Scope \n",
    "Explain what you plan to do in the project in more detail. What data do you use? What is your end solution look like? What tools did you use? etc>\n",
    "\n",
    "#### Describe and Gather Data \n",
    "Describe the data sets you're using. Where did it come from? What type of information is included? "
   ]
  },
  {
   "cell_type": "markdown",
   "metadata": {
    "editable": true
   },
   "source": [
    "# Scope\n",
    "\n",
    "We will be constructing an immigration tracking database. This database has the potential for different uses such as to determine staffing at USCIS offices and the immigration office at airports, predicting future demographics, and tracking overall immigration trends. \n",
    "\n",
    "#### Our database consists of the following datasets:\n",
    "- i94 immigration data from the [US National Tourism and Trade Office](https://travel.trade.gov/research/reports/i94/historical/2016.html). (millions of rows x 29 columns)\n",
    "- [global airports](https://datahub.io/core/airport-codes#data). (>55000 rows x 12 columns)\n",
    "- US cities and demographics provided by [OpenSoft](https://public.opendatasoft.com/explore/dataset/us-cities-demographics/export/). (>2800 rows x 12 columns)\n",
    "- Temperature data by cities for the past 150+ years from [Kaggle](https://www.kaggle.com/berkeleyearth/climate-change-earth-surface-temperature-data?select=GlobalLandTemperaturesByCity.csv). (>8 million rows x 7 columns)\n",
    "\n",
    "End solution:\n",
    "- TBD\n",
    "\n",
    "Tools and technologies used:\n",
    "- TBD"
   ]
  },
  {
   "cell_type": "markdown",
   "metadata": {
    "editable": true
   },
   "source": [
    "# Let's gather and describe each dataset\n",
    "- Airports\n",
    "- Cities and Demographics\n",
    "- Immigration"
   ]
  },
  {
   "cell_type": "markdown",
   "metadata": {
    "editable": true
   },
   "source": [
    "### Functions to use later"
   ]
  },
  {
   "cell_type": "code",
   "execution_count": 2,
   "metadata": {
    "editable": true
   },
   "outputs": [],
   "source": [
    "#function to describe dataframe\n",
    "def stats_on_df(df, name):\n",
    "    print(\"\\nThere are {} rows and {} columns of data in the {} file\".format(len(df), len(df.columns), name))\n",
    "    print(\"columns are {}\".format(df.columns))"
   ]
  },
  {
   "cell_type": "code",
   "execution_count": 3,
   "metadata": {
    "editable": true
   },
   "outputs": [],
   "source": [
    "#function to compare series to identify similarity\n",
    "def matcher(series1, series2):\n",
    "    matches = [i for i in series1 if i in series2]\n",
    "    print(matches)"
   ]
  },
  {
   "cell_type": "markdown",
   "metadata": {
    "editable": true
   },
   "source": [
    "## Airports\n",
    "Let's start with the **airport** data set found in airport-codes_csv.csv "
   ]
  },
  {
   "cell_type": "code",
   "execution_count": 4,
   "metadata": {
    "editable": true
   },
   "outputs": [
    {
     "name": "stdout",
     "output_type": "stream",
     "text": [
      "\n",
      "There are 55075 rows and 12 columns of data in the airports file\n",
      "columns are Index(['ident', 'type', 'name', 'elevation_ft', 'continent', 'iso_country',\n",
      "       'iso_region', 'municipality', 'gps_code', 'iata_code', 'local_code',\n",
      "       'coordinates'],\n",
      "      dtype='object')\n"
     ]
    }
   ],
   "source": [
    "airport_df = pd.read_csv(\"data_raw/airport-codes_csv.csv\")\n",
    "stats_on_df(airport_df, \"airports\")"
   ]
  },
  {
   "cell_type": "markdown",
   "metadata": {
    "editable": true
   },
   "source": [
    "We have 12 columns of data in the airport file and 55000 rows. Let's explore this further. "
   ]
  },
  {
   "cell_type": "code",
   "execution_count": 5,
   "metadata": {
    "editable": true
   },
   "outputs": [
    {
     "data": {
      "text/plain": [
       "Index(['airport_identifier', 'airport_size', 'airport_name', 'elevation_ft',\n",
       "       'continent', 'country', 'iso_region', 'municipality', 'gps_code',\n",
       "       'iata_code', 'local_code', 'coordinates'],\n",
       "      dtype='object')"
      ]
     },
     "execution_count": 5,
     "metadata": {},
     "output_type": "execute_result"
    }
   ],
   "source": [
    "#let's give the columns more informative names for later combining with other data sets\n",
    "airport_df = airport_df.rename(columns = {'ident':'airport_identifier', 'type':'airport_size', 'name':'airport_name', 'iso_country':'country'})\n",
    "airport_df.columns"
   ]
  },
  {
   "cell_type": "markdown",
   "metadata": {
    "editable": true
   },
   "source": [
    "The cleaned airport dataset has the following 12 fields:\n",
    "- airport_identifier: identifying airport code\n",
    "- airport_size: small, medim, and large\n",
    "- airport_name: name of airport (string)\n",
    "- elevation_ft: height from sea level of airport (int)\n",
    "- continent: 2 character continent abbreviation\n",
    "- country: 2 character country abbreviation\n",
    "- iso_region: iso regional identifier of airport location\n",
    "- municipality: locale of airport\n",
    "- gps_code: 4 char identification gps_code\n",
    "- iata_code: 4 char iata identifying code\n",
    "- local_code: 4 char local identifying code\n",
    "- coordinates: gps coordinates of airport separate by comma e.g -101.473911, 38.704022"
   ]
  },
  {
   "cell_type": "code",
   "execution_count": 6,
   "metadata": {
    "editable": true
   },
   "outputs": [
    {
     "data": {
      "text/html": [
       "<div>\n",
       "<style scoped>\n",
       "    .dataframe tbody tr th:only-of-type {\n",
       "        vertical-align: middle;\n",
       "    }\n",
       "\n",
       "    .dataframe tbody tr th {\n",
       "        vertical-align: top;\n",
       "    }\n",
       "\n",
       "    .dataframe thead th {\n",
       "        text-align: right;\n",
       "    }\n",
       "</style>\n",
       "<table border=\"1\" class=\"dataframe\">\n",
       "  <thead>\n",
       "    <tr style=\"text-align: right;\">\n",
       "      <th></th>\n",
       "      <th>airport_identifier</th>\n",
       "      <th>airport_size</th>\n",
       "      <th>airport_name</th>\n",
       "      <th>elevation_ft</th>\n",
       "      <th>continent</th>\n",
       "      <th>country</th>\n",
       "      <th>iso_region</th>\n",
       "      <th>municipality</th>\n",
       "      <th>gps_code</th>\n",
       "      <th>iata_code</th>\n",
       "      <th>local_code</th>\n",
       "      <th>coordinates</th>\n",
       "    </tr>\n",
       "  </thead>\n",
       "  <tbody>\n",
       "    <tr>\n",
       "      <th>0</th>\n",
       "      <td>00A</td>\n",
       "      <td>heliport</td>\n",
       "      <td>Total Rf Heliport</td>\n",
       "      <td>11.0</td>\n",
       "      <td>NaN</td>\n",
       "      <td>US</td>\n",
       "      <td>US-PA</td>\n",
       "      <td>Bensalem</td>\n",
       "      <td>00A</td>\n",
       "      <td>NaN</td>\n",
       "      <td>00A</td>\n",
       "      <td>-74.93360137939453, 40.07080078125</td>\n",
       "    </tr>\n",
       "    <tr>\n",
       "      <th>1</th>\n",
       "      <td>00AA</td>\n",
       "      <td>small_airport</td>\n",
       "      <td>Aero B Ranch Airport</td>\n",
       "      <td>3435.0</td>\n",
       "      <td>NaN</td>\n",
       "      <td>US</td>\n",
       "      <td>US-KS</td>\n",
       "      <td>Leoti</td>\n",
       "      <td>00AA</td>\n",
       "      <td>NaN</td>\n",
       "      <td>00AA</td>\n",
       "      <td>-101.473911, 38.704022</td>\n",
       "    </tr>\n",
       "    <tr>\n",
       "      <th>2</th>\n",
       "      <td>00AK</td>\n",
       "      <td>small_airport</td>\n",
       "      <td>Lowell Field</td>\n",
       "      <td>450.0</td>\n",
       "      <td>NaN</td>\n",
       "      <td>US</td>\n",
       "      <td>US-AK</td>\n",
       "      <td>Anchor Point</td>\n",
       "      <td>00AK</td>\n",
       "      <td>NaN</td>\n",
       "      <td>00AK</td>\n",
       "      <td>-151.695999146, 59.94919968</td>\n",
       "    </tr>\n",
       "    <tr>\n",
       "      <th>3</th>\n",
       "      <td>00AL</td>\n",
       "      <td>small_airport</td>\n",
       "      <td>Epps Airpark</td>\n",
       "      <td>820.0</td>\n",
       "      <td>NaN</td>\n",
       "      <td>US</td>\n",
       "      <td>US-AL</td>\n",
       "      <td>Harvest</td>\n",
       "      <td>00AL</td>\n",
       "      <td>NaN</td>\n",
       "      <td>00AL</td>\n",
       "      <td>-86.77030181884766, 34.86479949951172</td>\n",
       "    </tr>\n",
       "    <tr>\n",
       "      <th>4</th>\n",
       "      <td>00AR</td>\n",
       "      <td>closed</td>\n",
       "      <td>Newport Hospital &amp; Clinic Heliport</td>\n",
       "      <td>237.0</td>\n",
       "      <td>NaN</td>\n",
       "      <td>US</td>\n",
       "      <td>US-AR</td>\n",
       "      <td>Newport</td>\n",
       "      <td>NaN</td>\n",
       "      <td>NaN</td>\n",
       "      <td>NaN</td>\n",
       "      <td>-91.254898, 35.6087</td>\n",
       "    </tr>\n",
       "  </tbody>\n",
       "</table>\n",
       "</div>"
      ],
      "text/plain": [
       "  airport_identifier   airport_size                        airport_name  \\\n",
       "0                00A       heliport                   Total Rf Heliport   \n",
       "1               00AA  small_airport                Aero B Ranch Airport   \n",
       "2               00AK  small_airport                        Lowell Field   \n",
       "3               00AL  small_airport                        Epps Airpark   \n",
       "4               00AR         closed  Newport Hospital & Clinic Heliport   \n",
       "\n",
       "   elevation_ft continent country iso_region  municipality gps_code iata_code  \\\n",
       "0          11.0       NaN      US      US-PA      Bensalem      00A       NaN   \n",
       "1        3435.0       NaN      US      US-KS         Leoti     00AA       NaN   \n",
       "2         450.0       NaN      US      US-AK  Anchor Point     00AK       NaN   \n",
       "3         820.0       NaN      US      US-AL       Harvest     00AL       NaN   \n",
       "4         237.0       NaN      US      US-AR       Newport      NaN       NaN   \n",
       "\n",
       "  local_code                            coordinates  \n",
       "0        00A     -74.93360137939453, 40.07080078125  \n",
       "1       00AA                 -101.473911, 38.704022  \n",
       "2       00AK            -151.695999146, 59.94919968  \n",
       "3       00AL  -86.77030181884766, 34.86479949951172  \n",
       "4        NaN                    -91.254898, 35.6087  "
      ]
     },
     "execution_count": 6,
     "metadata": {},
     "output_type": "execute_result"
    }
   ],
   "source": [
    "airport_df.head()"
   ]
  },
  {
   "cell_type": "code",
   "execution_count": 7,
   "metadata": {
    "editable": true
   },
   "outputs": [],
   "source": [
    "airport_df.to_csv('data_first_cleaning/airports.csv', index=False) #save for to use in step 2"
   ]
  },
  {
   "cell_type": "markdown",
   "metadata": {
    "editable": true
   },
   "source": [
    "## Cities and Demographics Data\n",
    "Now let's check the **US cities data** using us-cities-demographics.csv"
   ]
  },
  {
   "cell_type": "code",
   "execution_count": 8,
   "metadata": {
    "editable": true
   },
   "outputs": [
    {
     "name": "stdout",
     "output_type": "stream",
     "text": [
      "\n",
      "There are 2891 rows and 1 columns of data in the cities file\n",
      "columns are Index(['City;State;Median Age;Male Population;Female Population;Total Population;Number of Veterans;Foreign-born;Average Household Size;State Code;Race;Count'], dtype='object')\n"
     ]
    }
   ],
   "source": [
    "city_df = pd.read_csv(\"data_raw/us-cities-demographics.csv\")\n",
    "stats_on_df(city_df, \"cities\")"
   ]
  },
  {
   "cell_type": "markdown",
   "metadata": {
    "editable": true
   },
   "source": [
    "Immediately we see that the data has been loaded in with only 1 column with a ; separator and needs to be reloaded accordingly."
   ]
  },
  {
   "cell_type": "code",
   "execution_count": 9,
   "metadata": {
    "editable": true
   },
   "outputs": [
    {
     "name": "stdout",
     "output_type": "stream",
     "text": [
      "\n",
      "There are 2891 rows and 12 columns of data in the cities file\n",
      "columns are Index(['City', 'State', 'Median Age', 'Male Population', 'Female Population',\n",
      "       'Total Population', 'Number of Veterans', 'Foreign-born',\n",
      "       'Average Household Size', 'State Code', 'Race', 'Count'],\n",
      "      dtype='object')\n"
     ]
    }
   ],
   "source": [
    "city_df = pd.read_csv(\"data_raw/us-cities-demographics.csv\", sep=';')\n",
    "stats_on_df(city_df, \"cities\")"
   ]
  },
  {
   "cell_type": "code",
   "execution_count": 10,
   "metadata": {
    "editable": true
   },
   "outputs": [
    {
     "data": {
      "text/html": [
       "<div>\n",
       "<style scoped>\n",
       "    .dataframe tbody tr th:only-of-type {\n",
       "        vertical-align: middle;\n",
       "    }\n",
       "\n",
       "    .dataframe tbody tr th {\n",
       "        vertical-align: top;\n",
       "    }\n",
       "\n",
       "    .dataframe thead th {\n",
       "        text-align: right;\n",
       "    }\n",
       "</style>\n",
       "<table border=\"1\" class=\"dataframe\">\n",
       "  <thead>\n",
       "    <tr style=\"text-align: right;\">\n",
       "      <th></th>\n",
       "      <th>City</th>\n",
       "      <th>State</th>\n",
       "      <th>Median Age</th>\n",
       "      <th>Male Population</th>\n",
       "      <th>Female Population</th>\n",
       "      <th>Total Population</th>\n",
       "      <th>Number of Veterans</th>\n",
       "      <th>Foreign-born</th>\n",
       "      <th>Average Household Size</th>\n",
       "      <th>State Code</th>\n",
       "      <th>Race</th>\n",
       "      <th>Count</th>\n",
       "    </tr>\n",
       "  </thead>\n",
       "  <tbody>\n",
       "    <tr>\n",
       "      <th>1026</th>\n",
       "      <td>Detroit</td>\n",
       "      <td>Michigan</td>\n",
       "      <td>34.8</td>\n",
       "      <td>319265.0</td>\n",
       "      <td>357859.0</td>\n",
       "      <td>677124</td>\n",
       "      <td>29511.0</td>\n",
       "      <td>39861.0</td>\n",
       "      <td>2.6</td>\n",
       "      <td>MI</td>\n",
       "      <td>Black or African-American</td>\n",
       "      <td>545988</td>\n",
       "    </tr>\n",
       "    <tr>\n",
       "      <th>1126</th>\n",
       "      <td>Detroit</td>\n",
       "      <td>Michigan</td>\n",
       "      <td>34.8</td>\n",
       "      <td>319265.0</td>\n",
       "      <td>357859.0</td>\n",
       "      <td>677124</td>\n",
       "      <td>29511.0</td>\n",
       "      <td>39861.0</td>\n",
       "      <td>2.6</td>\n",
       "      <td>MI</td>\n",
       "      <td>Asian</td>\n",
       "      <td>10804</td>\n",
       "    </tr>\n",
       "    <tr>\n",
       "      <th>1127</th>\n",
       "      <td>Detroit</td>\n",
       "      <td>Michigan</td>\n",
       "      <td>34.8</td>\n",
       "      <td>319265.0</td>\n",
       "      <td>357859.0</td>\n",
       "      <td>677124</td>\n",
       "      <td>29511.0</td>\n",
       "      <td>39861.0</td>\n",
       "      <td>2.6</td>\n",
       "      <td>MI</td>\n",
       "      <td>American Indian and Alaska Native</td>\n",
       "      <td>6007</td>\n",
       "    </tr>\n",
       "    <tr>\n",
       "      <th>1713</th>\n",
       "      <td>Detroit</td>\n",
       "      <td>Michigan</td>\n",
       "      <td>34.8</td>\n",
       "      <td>319265.0</td>\n",
       "      <td>357859.0</td>\n",
       "      <td>677124</td>\n",
       "      <td>29511.0</td>\n",
       "      <td>39861.0</td>\n",
       "      <td>2.6</td>\n",
       "      <td>MI</td>\n",
       "      <td>White</td>\n",
       "      <td>104260</td>\n",
       "    </tr>\n",
       "    <tr>\n",
       "      <th>2471</th>\n",
       "      <td>Detroit</td>\n",
       "      <td>Michigan</td>\n",
       "      <td>34.8</td>\n",
       "      <td>319265.0</td>\n",
       "      <td>357859.0</td>\n",
       "      <td>677124</td>\n",
       "      <td>29511.0</td>\n",
       "      <td>39861.0</td>\n",
       "      <td>2.6</td>\n",
       "      <td>MI</td>\n",
       "      <td>Hispanic or Latino</td>\n",
       "      <td>53980</td>\n",
       "    </tr>\n",
       "  </tbody>\n",
       "</table>\n",
       "</div>"
      ],
      "text/plain": [
       "         City     State  Median Age  Male Population  Female Population  \\\n",
       "1026  Detroit  Michigan        34.8         319265.0           357859.0   \n",
       "1126  Detroit  Michigan        34.8         319265.0           357859.0   \n",
       "1127  Detroit  Michigan        34.8         319265.0           357859.0   \n",
       "1713  Detroit  Michigan        34.8         319265.0           357859.0   \n",
       "2471  Detroit  Michigan        34.8         319265.0           357859.0   \n",
       "\n",
       "      Total Population  Number of Veterans  Foreign-born  \\\n",
       "1026            677124             29511.0       39861.0   \n",
       "1126            677124             29511.0       39861.0   \n",
       "1127            677124             29511.0       39861.0   \n",
       "1713            677124             29511.0       39861.0   \n",
       "2471            677124             29511.0       39861.0   \n",
       "\n",
       "      Average Household Size State Code                               Race  \\\n",
       "1026                     2.6         MI          Black or African-American   \n",
       "1126                     2.6         MI                              Asian   \n",
       "1127                     2.6         MI  American Indian and Alaska Native   \n",
       "1713                     2.6         MI                              White   \n",
       "2471                     2.6         MI                 Hispanic or Latino   \n",
       "\n",
       "       Count  \n",
       "1026  545988  \n",
       "1126   10804  \n",
       "1127    6007  \n",
       "1713  104260  \n",
       "2471   53980  "
      ]
     },
     "execution_count": 10,
     "metadata": {},
     "output_type": "execute_result"
    }
   ],
   "source": [
    "city_df[city_df.City==\"Detroit\"]"
   ]
  },
  {
   "cell_type": "markdown",
   "metadata": {
    "editable": true
   },
   "source": [
    "The data is very redundant as we can see above. The city of Detroit has 5 rows of data where 10 columns are identical with only the Race and Count columns as different. We will need to modify the structure later for our purposes. "
   ]
  },
  {
   "cell_type": "code",
   "execution_count": 11,
   "metadata": {
    "editable": true
   },
   "outputs": [
    {
     "data": {
      "text/plain": [
       "Index(['City', 'State', 'Median Age', 'Male Population', 'Female Population',\n",
       "       'Total Population', 'Number of Veterans', 'Foreign-born',\n",
       "       'Average Household Size', 'State Code', 'Race', 'Race Population'],\n",
       "      dtype='object')"
      ]
     },
     "execution_count": 11,
     "metadata": {},
     "output_type": "execute_result"
    }
   ],
   "source": [
    "city_df = city_df.rename(columns = {'Count':'Race Population'})\n",
    "city_df.columns"
   ]
  },
  {
   "cell_type": "markdown",
   "metadata": {
    "editable": true
   },
   "source": [
    "The cleaned cities dataset has the following 12 fields:\n",
    "- City: city (Full name)\n",
    "- State: state (Full name)\n",
    "- Median Age: Median age of city population\n",
    "- Male Population: Number of males in city\n",
    "- Female Population: Number of females in city\n",
    "- Total Population: Total population of city, equal to male population + female population\n",
    "- Number of Veterans: Number of veterans in total population of city\n",
    "- Foreign-born: Number of foreign-born population in city\n",
    "- AVerage Household Sioze: total population / number of households\n",
    "- State Code: 2 character abbreviation of State\n",
    "- Race: one specific race within the city's population (different rows for different races in same city)\n",
    "- Race Population: Population of the given race within the city"
   ]
  },
  {
   "cell_type": "code",
   "execution_count": 12,
   "metadata": {
    "editable": true
   },
   "outputs": [],
   "source": [
    "city_df.to_csv('data_first_cleaning/cities.csv', index=False) #save for to use in step 2"
   ]
  },
  {
   "cell_type": "markdown",
   "metadata": {
    "editable": true
   },
   "source": [
    "## Immigration Data\n",
    "Now let's check the **immigration data** using immigration_data_sample.csv which is a sample of the larger immigration sas data. \n",
    "\n",
    "Since we are looking only at a sample data, there is no reason to change or clean the sample dataset until a later step."
   ]
  },
  {
   "cell_type": "code",
   "execution_count": 13,
   "metadata": {
    "editable": true
   },
   "outputs": [
    {
     "name": "stdout",
     "output_type": "stream",
     "text": [
      "\n",
      "There are 1000 rows and 29 columns of data in the immigration sample file\n",
      "columns are Index(['Unnamed: 0', 'cicid', 'i94yr', 'i94mon', 'i94cit', 'i94res', 'i94port',\n",
      "       'arrdate', 'i94mode', 'i94addr', 'depdate', 'i94bir', 'i94visa',\n",
      "       'count', 'dtadfile', 'visapost', 'occup', 'entdepa', 'entdepd',\n",
      "       'entdepu', 'matflag', 'biryear', 'dtaddto', 'gender', 'insnum',\n",
      "       'airline', 'admnum', 'fltno', 'visatype'],\n",
      "      dtype='object')\n",
      "   Unnamed: 0      cicid   i94yr  i94mon  i94cit  i94res i94port  arrdate\n",
      "0     2027561  4084316.0  2016.0     4.0   209.0   209.0     HHW  20566.0\n",
      "1     2171295  4422636.0  2016.0     4.0   582.0   582.0     MCA  20567.0\n",
      "2      589494  1195600.0  2016.0     4.0   148.0   112.0     OGG  20551.0\n",
      "3     2631158  5291768.0  2016.0     4.0   297.0   297.0     LOS  20572.0\n",
      "   i94mode i94addr  depdate  i94bir  i94visa  count  dtadfile visapost\n",
      "0      1.0      HI  20573.0    61.0      2.0    1.0  20160422      NaN\n",
      "1      1.0      TX  20568.0    26.0      2.0    1.0  20160423      MTR\n",
      "2      1.0      FL  20571.0    76.0      2.0    1.0  20160407      NaN\n",
      "3      1.0      CA  20581.0    25.0      2.0    1.0  20160428      DOH\n",
      "  occup entdepa entdepd  entdepu matflag  biryear   dtaddto gender\n",
      "0   NaN       G       O      NaN       M   1955.0  07202016      F\n",
      "1   NaN       G       R      NaN       M   1990.0  10222016      M\n",
      "2   NaN       G       O      NaN       M   1940.0  07052016      M\n",
      "3   NaN       G       O      NaN       M   1991.0  10272016      M\n",
      "   insnum airline        admnum  fltno visatype\n",
      "0     NaN      JL  5.658267e+10  00782       WT\n",
      "1     NaN     *GA  9.436200e+10  XBLNG       B2\n",
      "2     NaN      LH  5.578047e+10  00464       WT\n",
      "3     NaN      QR  9.478970e+10  00739       B2\n"
     ]
    }
   ],
   "source": [
    "imm_df = pd.read_csv(\"data_raw/immigration_data_sample.csv\")\n",
    "stats_on_df(imm_df, \"immigration sample\")\n",
    "print(imm_df.iloc[:4,:8])\n",
    "print(imm_df.iloc[:4,8:16])\n",
    "print(imm_df.iloc[:4,16:24])\n",
    "print(imm_df.iloc[:4,24:])"
   ]
  },
  {
   "cell_type": "markdown",
   "metadata": {
    "editable": true
   },
   "source": [
    "We have a a significant amount of fields in this data - 29 columns in total. We can already start to see some ways in which this data can be joined with the cities and airports dataset. For example, the i94port column appears to reference an airport and the i94addr matches the state code in the cities dataset. The immigration dataset also provides date information which can be used to partition the data to view trends over time.  \n",
    "  \n",
    "Additional opportunity in the data exists, such as using i94bir in the immigration dataset to compare it to the median age in the cities.  \n",
    "  \n",
    "A deeper dive into the individual columns will be necessary in step 2 to see what information can be gained by including it in our overall model."
   ]
  },
  {
   "cell_type": "markdown",
   "metadata": {
    "editable": true
   },
   "source": [
    "The immigration dataset has the following fields:\n",
    "- cicid: unique identifier\n",
    "- i94yr: 4 digit year\n",
    "- i94mon: numeric month\n",
    "- i94cit: origin code for processing (3 numbers)\n",
    "- i94res: origin code for processing (3 numbers)\n",
    "- i94port: airport code of arrival to US (3 letters)\n",
    "- arrdate: Arrival date to US\n",
    "- i94mode: Mode of transportation on arrival (air, sea, land as 1, 2, and 3 respectively)\n",
    "- i94addr: 2 letter state code of destination\n",
    "- depdate: Departure date from US\n",
    "- i94bir: Age of individual in years\n",
    "- i94visa: visa reason codes (1, 2, 3 for business, pleasure or student respectively)\n",
    "- count: contains value of 1 for summarizing\n",
    "- dtadfile: date field yyyymmdd format\n",
    "- visapost: dept of state branch issuing visa\n",
    "- occup: occupation to perform in US\n",
    "- entdepa: arrival flag  (admitted or paroled)\n",
    "- entdepd: departure flag (departed, lost or deceased)\n",
    "- entdepu: update flag (apprehended, overstayed, adjusted to permanent residence)\n",
    "- matflag: flag if arrival/departure records matching\n",
    "- biryear: 4 digit birth year\n",
    "- dtaddto: date allowed to stay in US until\n",
    "- gender: gender code (1 letter abbreviation)\n",
    "- insnum: INS number\n",
    "- airline: airline flown to arrive in US\n",
    "- admnum: admission number\n",
    "- fltno: flight number of airline flown to arrive in US\n",
    "- visatype: admission class of visa for non-immigrant family"
   ]
  },
  {
   "cell_type": "code",
   "execution_count": 14,
   "metadata": {
    "editable": true
   },
   "outputs": [],
   "source": [
    "imm_df.to_csv('data_first_cleaning/immigration_sample.csv', index=False) #save for to use in step 2"
   ]
  },
  {
   "cell_type": "markdown",
   "metadata": {
    "editable": true
   },
   "source": [
    "## Temperature Data\n",
    "Now let's check the **temperature data** using GlobalLandTemperaturesByMajorCity.csv which is a sample of the larger temperature data. \n",
    "\n",
    "Since we are looking only at a sample data, there is no reason to change or clean the sample dataset until a later step."
   ]
  },
  {
   "cell_type": "code",
   "execution_count": 15,
   "metadata": {
    "editable": true
   },
   "outputs": [
    {
     "name": "stdout",
     "output_type": "stream",
     "text": [
      "\n",
      "There are 239177 rows and 7 columns of data in the temperpature sample file\n",
      "columns are Index(['dt', 'AverageTemperature', 'AverageTemperatureUncertainty', 'City',\n",
      "       'Country', 'Latitude', 'Longitude'],\n",
      "      dtype='object')\n"
     ]
    },
    {
     "data": {
      "text/html": [
       "<div>\n",
       "<style scoped>\n",
       "    .dataframe tbody tr th:only-of-type {\n",
       "        vertical-align: middle;\n",
       "    }\n",
       "\n",
       "    .dataframe tbody tr th {\n",
       "        vertical-align: top;\n",
       "    }\n",
       "\n",
       "    .dataframe thead th {\n",
       "        text-align: right;\n",
       "    }\n",
       "</style>\n",
       "<table border=\"1\" class=\"dataframe\">\n",
       "  <thead>\n",
       "    <tr style=\"text-align: right;\">\n",
       "      <th></th>\n",
       "      <th>dt</th>\n",
       "      <th>AverageTemperature</th>\n",
       "      <th>AverageTemperatureUncertainty</th>\n",
       "      <th>City</th>\n",
       "      <th>Country</th>\n",
       "      <th>Latitude</th>\n",
       "      <th>Longitude</th>\n",
       "    </tr>\n",
       "  </thead>\n",
       "  <tbody>\n",
       "    <tr>\n",
       "      <th>0</th>\n",
       "      <td>1849-01-01</td>\n",
       "      <td>26.704</td>\n",
       "      <td>1.435</td>\n",
       "      <td>Abidjan</td>\n",
       "      <td>Côte D'Ivoire</td>\n",
       "      <td>5.63N</td>\n",
       "      <td>3.23W</td>\n",
       "    </tr>\n",
       "    <tr>\n",
       "      <th>1</th>\n",
       "      <td>1849-02-01</td>\n",
       "      <td>27.434</td>\n",
       "      <td>1.362</td>\n",
       "      <td>Abidjan</td>\n",
       "      <td>Côte D'Ivoire</td>\n",
       "      <td>5.63N</td>\n",
       "      <td>3.23W</td>\n",
       "    </tr>\n",
       "    <tr>\n",
       "      <th>2</th>\n",
       "      <td>1849-03-01</td>\n",
       "      <td>28.101</td>\n",
       "      <td>1.612</td>\n",
       "      <td>Abidjan</td>\n",
       "      <td>Côte D'Ivoire</td>\n",
       "      <td>5.63N</td>\n",
       "      <td>3.23W</td>\n",
       "    </tr>\n",
       "    <tr>\n",
       "      <th>3</th>\n",
       "      <td>1849-04-01</td>\n",
       "      <td>26.140</td>\n",
       "      <td>1.387</td>\n",
       "      <td>Abidjan</td>\n",
       "      <td>Côte D'Ivoire</td>\n",
       "      <td>5.63N</td>\n",
       "      <td>3.23W</td>\n",
       "    </tr>\n",
       "    <tr>\n",
       "      <th>4</th>\n",
       "      <td>1849-05-01</td>\n",
       "      <td>25.427</td>\n",
       "      <td>1.200</td>\n",
       "      <td>Abidjan</td>\n",
       "      <td>Côte D'Ivoire</td>\n",
       "      <td>5.63N</td>\n",
       "      <td>3.23W</td>\n",
       "    </tr>\n",
       "  </tbody>\n",
       "</table>\n",
       "</div>"
      ],
      "text/plain": [
       "           dt  AverageTemperature  AverageTemperatureUncertainty     City  \\\n",
       "0  1849-01-01              26.704                          1.435  Abidjan   \n",
       "1  1849-02-01              27.434                          1.362  Abidjan   \n",
       "2  1849-03-01              28.101                          1.612  Abidjan   \n",
       "3  1849-04-01              26.140                          1.387  Abidjan   \n",
       "4  1849-05-01              25.427                          1.200  Abidjan   \n",
       "\n",
       "         Country Latitude Longitude  \n",
       "0  Côte D'Ivoire    5.63N     3.23W  \n",
       "1  Côte D'Ivoire    5.63N     3.23W  \n",
       "2  Côte D'Ivoire    5.63N     3.23W  \n",
       "3  Côte D'Ivoire    5.63N     3.23W  \n",
       "4  Côte D'Ivoire    5.63N     3.23W  "
      ]
     },
     "execution_count": 15,
     "metadata": {},
     "output_type": "execute_result"
    }
   ],
   "source": [
    "temp_df = pd.read_csv(\"data_raw/GlobalLandTemperaturesByMajorCity.csv\")\n",
    "stats_on_df(temp_df, \"temperpature sample\")\n",
    "temp_df.head(5)"
   ]
  },
  {
   "cell_type": "code",
   "execution_count": 16,
   "metadata": {
    "editable": true
   },
   "outputs": [
    {
     "data": {
      "text/html": [
       "<div>\n",
       "<style scoped>\n",
       "    .dataframe tbody tr th:only-of-type {\n",
       "        vertical-align: middle;\n",
       "    }\n",
       "\n",
       "    .dataframe tbody tr th {\n",
       "        vertical-align: top;\n",
       "    }\n",
       "\n",
       "    .dataframe thead th {\n",
       "        text-align: right;\n",
       "    }\n",
       "</style>\n",
       "<table border=\"1\" class=\"dataframe\">\n",
       "  <thead>\n",
       "    <tr style=\"text-align: right;\">\n",
       "      <th></th>\n",
       "      <th>dt</th>\n",
       "      <th>AverageTemperature</th>\n",
       "      <th>AverageTemperatureUncertainty</th>\n",
       "      <th>City</th>\n",
       "      <th>Country</th>\n",
       "      <th>Latitude</th>\n",
       "      <th>Longitude</th>\n",
       "    </tr>\n",
       "  </thead>\n",
       "  <tbody>\n",
       "    <tr>\n",
       "      <th>239172</th>\n",
       "      <td>2013-05-01</td>\n",
       "      <td>18.979</td>\n",
       "      <td>0.807</td>\n",
       "      <td>Xian</td>\n",
       "      <td>China</td>\n",
       "      <td>34.56N</td>\n",
       "      <td>108.97E</td>\n",
       "    </tr>\n",
       "    <tr>\n",
       "      <th>239173</th>\n",
       "      <td>2013-06-01</td>\n",
       "      <td>23.522</td>\n",
       "      <td>0.647</td>\n",
       "      <td>Xian</td>\n",
       "      <td>China</td>\n",
       "      <td>34.56N</td>\n",
       "      <td>108.97E</td>\n",
       "    </tr>\n",
       "    <tr>\n",
       "      <th>239174</th>\n",
       "      <td>2013-07-01</td>\n",
       "      <td>25.251</td>\n",
       "      <td>1.042</td>\n",
       "      <td>Xian</td>\n",
       "      <td>China</td>\n",
       "      <td>34.56N</td>\n",
       "      <td>108.97E</td>\n",
       "    </tr>\n",
       "    <tr>\n",
       "      <th>239175</th>\n",
       "      <td>2013-08-01</td>\n",
       "      <td>24.528</td>\n",
       "      <td>0.840</td>\n",
       "      <td>Xian</td>\n",
       "      <td>China</td>\n",
       "      <td>34.56N</td>\n",
       "      <td>108.97E</td>\n",
       "    </tr>\n",
       "    <tr>\n",
       "      <th>239176</th>\n",
       "      <td>2013-09-01</td>\n",
       "      <td>NaN</td>\n",
       "      <td>NaN</td>\n",
       "      <td>Xian</td>\n",
       "      <td>China</td>\n",
       "      <td>34.56N</td>\n",
       "      <td>108.97E</td>\n",
       "    </tr>\n",
       "  </tbody>\n",
       "</table>\n",
       "</div>"
      ],
      "text/plain": [
       "                dt  AverageTemperature  AverageTemperatureUncertainty  City  \\\n",
       "239172  2013-05-01              18.979                          0.807  Xian   \n",
       "239173  2013-06-01              23.522                          0.647  Xian   \n",
       "239174  2013-07-01              25.251                          1.042  Xian   \n",
       "239175  2013-08-01              24.528                          0.840  Xian   \n",
       "239176  2013-09-01                 NaN                            NaN  Xian   \n",
       "\n",
       "       Country Latitude Longitude  \n",
       "239172   China   34.56N   108.97E  \n",
       "239173   China   34.56N   108.97E  \n",
       "239174   China   34.56N   108.97E  \n",
       "239175   China   34.56N   108.97E  \n",
       "239176   China   34.56N   108.97E  "
      ]
     },
     "execution_count": 16,
     "metadata": {},
     "output_type": "execute_result"
    }
   ],
   "source": [
    "temp_df.tail(5)"
   ]
  },
  {
   "cell_type": "code",
   "execution_count": 17,
   "metadata": {
    "editable": true
   },
   "outputs": [],
   "source": [
    "temp_df_full = pd.read_csv('../../data2/GlobalLandTemperaturesByCity.csv') "
   ]
  },
  {
   "cell_type": "code",
   "execution_count": 18,
   "metadata": {
    "editable": true
   },
   "outputs": [
    {
     "name": "stdout",
     "output_type": "stream",
     "text": [
      "\n",
      "There are 8599212 rows and 7 columns of data in the temperatures all cities file\n",
      "columns are Index(['dt', 'AverageTemperature', 'AverageTemperatureUncertainty', 'City',\n",
      "       'Country', 'Latitude', 'Longitude'],\n",
      "      dtype='object')\n"
     ]
    },
    {
     "data": {
      "text/html": [
       "<div>\n",
       "<style scoped>\n",
       "    .dataframe tbody tr th:only-of-type {\n",
       "        vertical-align: middle;\n",
       "    }\n",
       "\n",
       "    .dataframe tbody tr th {\n",
       "        vertical-align: top;\n",
       "    }\n",
       "\n",
       "    .dataframe thead th {\n",
       "        text-align: right;\n",
       "    }\n",
       "</style>\n",
       "<table border=\"1\" class=\"dataframe\">\n",
       "  <thead>\n",
       "    <tr style=\"text-align: right;\">\n",
       "      <th></th>\n",
       "      <th>dt</th>\n",
       "      <th>AverageTemperature</th>\n",
       "      <th>AverageTemperatureUncertainty</th>\n",
       "      <th>City</th>\n",
       "      <th>Country</th>\n",
       "      <th>Latitude</th>\n",
       "      <th>Longitude</th>\n",
       "    </tr>\n",
       "  </thead>\n",
       "  <tbody>\n",
       "    <tr>\n",
       "      <th>0</th>\n",
       "      <td>1743-11-01</td>\n",
       "      <td>6.068</td>\n",
       "      <td>1.737</td>\n",
       "      <td>Århus</td>\n",
       "      <td>Denmark</td>\n",
       "      <td>57.05N</td>\n",
       "      <td>10.33E</td>\n",
       "    </tr>\n",
       "    <tr>\n",
       "      <th>1</th>\n",
       "      <td>1743-12-01</td>\n",
       "      <td>NaN</td>\n",
       "      <td>NaN</td>\n",
       "      <td>Århus</td>\n",
       "      <td>Denmark</td>\n",
       "      <td>57.05N</td>\n",
       "      <td>10.33E</td>\n",
       "    </tr>\n",
       "    <tr>\n",
       "      <th>2</th>\n",
       "      <td>1744-01-01</td>\n",
       "      <td>NaN</td>\n",
       "      <td>NaN</td>\n",
       "      <td>Århus</td>\n",
       "      <td>Denmark</td>\n",
       "      <td>57.05N</td>\n",
       "      <td>10.33E</td>\n",
       "    </tr>\n",
       "    <tr>\n",
       "      <th>3</th>\n",
       "      <td>1744-02-01</td>\n",
       "      <td>NaN</td>\n",
       "      <td>NaN</td>\n",
       "      <td>Århus</td>\n",
       "      <td>Denmark</td>\n",
       "      <td>57.05N</td>\n",
       "      <td>10.33E</td>\n",
       "    </tr>\n",
       "    <tr>\n",
       "      <th>4</th>\n",
       "      <td>1744-03-01</td>\n",
       "      <td>NaN</td>\n",
       "      <td>NaN</td>\n",
       "      <td>Århus</td>\n",
       "      <td>Denmark</td>\n",
       "      <td>57.05N</td>\n",
       "      <td>10.33E</td>\n",
       "    </tr>\n",
       "  </tbody>\n",
       "</table>\n",
       "</div>"
      ],
      "text/plain": [
       "           dt  AverageTemperature  AverageTemperatureUncertainty   City  \\\n",
       "0  1743-11-01               6.068                          1.737  Århus   \n",
       "1  1743-12-01                 NaN                            NaN  Århus   \n",
       "2  1744-01-01                 NaN                            NaN  Århus   \n",
       "3  1744-02-01                 NaN                            NaN  Århus   \n",
       "4  1744-03-01                 NaN                            NaN  Århus   \n",
       "\n",
       "   Country Latitude Longitude  \n",
       "0  Denmark   57.05N    10.33E  \n",
       "1  Denmark   57.05N    10.33E  \n",
       "2  Denmark   57.05N    10.33E  \n",
       "3  Denmark   57.05N    10.33E  \n",
       "4  Denmark   57.05N    10.33E  "
      ]
     },
     "execution_count": 18,
     "metadata": {},
     "output_type": "execute_result"
    }
   ],
   "source": [
    "stats_on_df(temp_df_full, 'temperatures all cities')\n",
    "temp_df_full.head()"
   ]
  },
  {
   "cell_type": "code",
   "execution_count": 19,
   "metadata": {
    "editable": true
   },
   "outputs": [
    {
     "data": {
      "text/html": [
       "<div>\n",
       "<style scoped>\n",
       "    .dataframe tbody tr th:only-of-type {\n",
       "        vertical-align: middle;\n",
       "    }\n",
       "\n",
       "    .dataframe tbody tr th {\n",
       "        vertical-align: top;\n",
       "    }\n",
       "\n",
       "    .dataframe thead th {\n",
       "        text-align: right;\n",
       "    }\n",
       "</style>\n",
       "<table border=\"1\" class=\"dataframe\">\n",
       "  <thead>\n",
       "    <tr style=\"text-align: right;\">\n",
       "      <th></th>\n",
       "      <th>dt</th>\n",
       "      <th>AverageTemperature</th>\n",
       "      <th>AverageTemperatureUncertainty</th>\n",
       "      <th>City</th>\n",
       "      <th>Country</th>\n",
       "      <th>Latitude</th>\n",
       "      <th>Longitude</th>\n",
       "    </tr>\n",
       "  </thead>\n",
       "  <tbody>\n",
       "    <tr>\n",
       "      <th>8599207</th>\n",
       "      <td>2013-05-01</td>\n",
       "      <td>11.464</td>\n",
       "      <td>0.236</td>\n",
       "      <td>Zwolle</td>\n",
       "      <td>Netherlands</td>\n",
       "      <td>52.24N</td>\n",
       "      <td>5.26E</td>\n",
       "    </tr>\n",
       "    <tr>\n",
       "      <th>8599208</th>\n",
       "      <td>2013-06-01</td>\n",
       "      <td>15.043</td>\n",
       "      <td>0.261</td>\n",
       "      <td>Zwolle</td>\n",
       "      <td>Netherlands</td>\n",
       "      <td>52.24N</td>\n",
       "      <td>5.26E</td>\n",
       "    </tr>\n",
       "    <tr>\n",
       "      <th>8599209</th>\n",
       "      <td>2013-07-01</td>\n",
       "      <td>18.775</td>\n",
       "      <td>0.193</td>\n",
       "      <td>Zwolle</td>\n",
       "      <td>Netherlands</td>\n",
       "      <td>52.24N</td>\n",
       "      <td>5.26E</td>\n",
       "    </tr>\n",
       "    <tr>\n",
       "      <th>8599210</th>\n",
       "      <td>2013-08-01</td>\n",
       "      <td>18.025</td>\n",
       "      <td>0.298</td>\n",
       "      <td>Zwolle</td>\n",
       "      <td>Netherlands</td>\n",
       "      <td>52.24N</td>\n",
       "      <td>5.26E</td>\n",
       "    </tr>\n",
       "    <tr>\n",
       "      <th>8599211</th>\n",
       "      <td>2013-09-01</td>\n",
       "      <td>NaN</td>\n",
       "      <td>NaN</td>\n",
       "      <td>Zwolle</td>\n",
       "      <td>Netherlands</td>\n",
       "      <td>52.24N</td>\n",
       "      <td>5.26E</td>\n",
       "    </tr>\n",
       "  </tbody>\n",
       "</table>\n",
       "</div>"
      ],
      "text/plain": [
       "                 dt  AverageTemperature  AverageTemperatureUncertainty  \\\n",
       "8599207  2013-05-01              11.464                          0.236   \n",
       "8599208  2013-06-01              15.043                          0.261   \n",
       "8599209  2013-07-01              18.775                          0.193   \n",
       "8599210  2013-08-01              18.025                          0.298   \n",
       "8599211  2013-09-01                 NaN                            NaN   \n",
       "\n",
       "           City      Country Latitude Longitude  \n",
       "8599207  Zwolle  Netherlands   52.24N     5.26E  \n",
       "8599208  Zwolle  Netherlands   52.24N     5.26E  \n",
       "8599209  Zwolle  Netherlands   52.24N     5.26E  \n",
       "8599210  Zwolle  Netherlands   52.24N     5.26E  \n",
       "8599211  Zwolle  Netherlands   52.24N     5.26E  "
      ]
     },
     "execution_count": 19,
     "metadata": {},
     "output_type": "execute_result"
    }
   ],
   "source": [
    "temp_df_full.tail()"
   ]
  },
  {
   "cell_type": "markdown",
   "metadata": {
    "editable": true
   },
   "source": [
    "The temperature dataset has the following fields:\n",
    "- dt: date yyyy-mm-dd (although day does not appear to be relevant as it is just a monthly entry)\n",
    "- AverageTemperature: celcius reading in float format with 3 decimals and some NaN\n",
    "- AverageTemperatureUncertainty: 95% confidence interval for Average Temperature\n",
    "- City: full name\n",
    "- Country: full name\n",
    "- Latitude: to 2 decimals places ex: 34.56N\n",
    "- Longitude: to 2 decimals places ex: 108.97E"
   ]
  },
  {
   "cell_type": "code",
   "execution_count": 20,
   "metadata": {
    "editable": true
   },
   "outputs": [],
   "source": [
    "temp_df.to_csv('data_first_cleaning/temperature_sample.csv', index=False) #save for to use in step 2"
   ]
  }
 ],
 "metadata": {
  "kernelspec": {
   "display_name": "Python 3",
   "language": "python",
   "name": "python3"
  },
  "language_info": {
   "codemirror_mode": {
    "name": "ipython",
    "version": 3
   },
   "file_extension": ".py",
   "mimetype": "text/x-python",
   "name": "python",
   "nbconvert_exporter": "python",
   "pygments_lexer": "ipython3",
   "version": "3.6.3"
  }
 },
 "nbformat": 4,
 "nbformat_minor": 4
}
