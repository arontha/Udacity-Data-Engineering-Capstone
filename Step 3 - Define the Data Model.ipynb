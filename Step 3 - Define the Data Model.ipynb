{
 "cells": [
  {
   "cell_type": "markdown",
   "metadata": {
    "editable": true
   },
   "source": [
    "### Step 3: Define the Data Model\n",
    "#### 3.1 Conceptual Data Model\n",
    "Map out the conceptual data model and explain why you chose that model\n"
   ]
  },
  {
   "cell_type": "markdown",
   "metadata": {
    "editable": true
   },
   "source": [
    "#### Star Schema\n",
    "<img src=\"Misc/star schema.png\">\n"
   ]
  },
  {
   "cell_type": "markdown",
   "metadata": {
    "editable": true
   },
   "source": [
    "The fields for each table are shown below. Color coding has been added to show the relationship between each table. \n",
    "\n",
    "<img src=\"Misc/tables.png\"> "
   ]
  },
  {
   "cell_type": "markdown",
   "metadata": {
    "editable": true
   },
   "source": [
    "#### Logic and Justification\n",
    "The star schema is easy to understand and will allow for understandable and interpretable SQL queries for analysts to generate reports. The fact table contains all of the most important fields which will be used to compare the data. The different dimension tables are not based on the source data but rather dividies the data into tables that will be of interest to the analysts using the schema.  \n",
    "\n",
    "The names of fields have been transformed into understandable and identifiable names instead of the abbreviation and technical terms that are found in the source data.  \n",
    "\n",
    "A note on the data - the i94 dataset provides origin only as a country and destination only as a state. Therefore the city can only be matched with the temperature and airports (all found in the geography data). The demographic information on population is only available for US cities, and the destination is only available at the state level. Therefore, the population information will be transformed to the state level, which loses some granularity in the data but will be in a more useful format for the analysts who will only be viewing it at the state level. Since the temperature data is available worldwide, it will remain at the city level as an analyst may be interested in the temperature for either the destination state or the country of origin."
   ]
  },
  {
   "cell_type": "markdown",
   "metadata": {
    "editable": true
   },
   "source": [
    "#### 3.2 Mapping Out Data Pipelines\n",
    "List the steps necessary to pipeline the data into the chosen data model"
   ]
  },
  {
   "cell_type": "markdown",
   "metadata": {
    "editable": true
   },
   "source": [
    "#### Big Picture\n",
    "The ETL process will be performed using PostgreSQL and pandas. The dimension data temperature, cities and airports is cleaned and transformed in pandas (steps 1 and 2) since it is fairly static data that not be part of a regular ETL process. The i94 data is the fact data that would be updated much more regularly and need to be cleaned/transformed during the ETL process (step 4). "
   ]
  },
  {
   "cell_type": "markdown",
   "metadata": {
    "editable": true
   },
   "source": [
    "#### Detailed Process\n",
    "The new tables will be written into a separate create_tables.sql file and called in step 4. The data will be extracted and transformed in the etl_queries.sql file and also called in step 4. Then we will run some queries found in analyze_queries.sql that an analyst may be wish to run to verify that our ETL was successful."
   ]
  },
  {
   "cell_type": "markdown",
   "metadata": {
    "editable": true
   },
   "source": [
    "**Note - if the volume of data was much higher, the queries in analyze_queries.sql would be transformed into table in an Apache Cassandra NOSQL database."
   ]
  },
  {
   "cell_type": "code",
   "execution_count": null,
   "metadata": {
    "editable": true
   },
   "outputs": [],
   "source": []
  }
 ],
 "metadata": {
  "kernelspec": {
   "display_name": "Python 3",
   "language": "python",
   "name": "python3"
  },
  "language_info": {
   "codemirror_mode": {
    "name": "ipython",
    "version": 3
   },
   "file_extension": ".py",
   "mimetype": "text/x-python",
   "name": "python",
   "nbconvert_exporter": "python",
   "pygments_lexer": "ipython3",
   "version": "3.6.3"
  }
 },
 "nbformat": 4,
 "nbformat_minor": 4
}
